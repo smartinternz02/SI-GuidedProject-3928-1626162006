{
 "cells": [
  {
   "cell_type": "code",
   "execution_count": 2,
   "metadata": {},
   "outputs": [
    {
     "name": "stdout",
     "output_type": "stream",
     "text": [
      "Enter First Number:4\n",
      "Enter Second Number:2\n",
      "Addition : 6\n",
      "Subtraction: 2\n",
      "Division: 2.0\n",
      "Multiplication: 8\n",
      "Floor Division: 2\n",
      "Modulus: 0\n",
      "Exponent: 16\n"
     ]
    }
   ],
   "source": [
    "a = int(input(\"Enter First Number:\"))\n",
    "b = int(input(\"Enter Second Number:\"))\n",
    "c = a+b\n",
    "d = a-b\n",
    "e = a/b\n",
    "f = a*b\n",
    "g = a//b\n",
    "h = a%b\n",
    "i = a**b\n",
    "        \n",
    "print(\"Addition :\",c)\n",
    "print(\"Subtraction:\",d)\n",
    "print(\"Division:\",e)\n",
    "print(\"Multiplication:\",f)\n",
    "print(\"Floor Division:\",g)\n",
    "print(\"Modulus:\",h)\n",
    "print(\"Exponent:\",i)\n",
    "\n",
    "        \n"
   ]
  },
  {
   "cell_type": "code",
   "execution_count": 6,
   "metadata": {},
   "outputs": [
    {
     "name": "stdout",
     "output_type": "stream",
     "text": [
      "[13, 4, 55, 23, 98, 3, 24]\n",
      "13\n",
      "4\n",
      "55\n",
      "23\n",
      "98\n",
      "3\n",
      "24\n",
      "Length of List: 7\n",
      "Maximum Value: 98\n",
      "Minimum Value: 3\n",
      "Sorted List: [3, 4, 13, 23, 24, 55, 98]\n"
     ]
    }
   ],
   "source": [
    "nums = [13,4,55,23,98,3,24]\n",
    "print(nums)\n",
    "for i in range(len(nums)):\n",
    "    print(nums[i])\n",
    "print(\"Length of List:\",len(nums))\n",
    "print(\"Maximum Value:\",max(nums))\n",
    "print(\"Minimum Value:\",min(nums))\n",
    "nums.sort()\n",
    "print(\"Sorted List:\",nums)\n",
    "\n",
    "    "
   ]
  },
  {
   "cell_type": "code",
   "execution_count": 17,
   "metadata": {},
   "outputs": [
    {
     "name": "stdout",
     "output_type": "stream",
     "text": [
      "{10: 'Srinu', 11: 'vasu', 12: 'Tejaswi', 13: 'Subu'}\n",
      "dict_keys([10, 11, 12, 13])\n",
      "\n",
      "Keys are:\n",
      "\n",
      "10\n",
      "11\n",
      "12\n",
      "13\n",
      "dict_values(['Srinu', 'vasu', 'Tejaswi', 'Subu'])\n",
      "\n",
      "values are:\n",
      "\n",
      "Srinu\n",
      "vasu\n",
      "Tejaswi\n",
      "Subu\n"
     ]
    }
   ],
   "source": [
    "names= {10:\"Srinu\",11:\"vasu\",12:\"Tejaswi\",13:\"Subu\"}\n",
    "print(names)\n",
    "a = names.keys()\n",
    "print(a)\n",
    "print(\"\\nKeys are:\\n\")\n",
    "for key,value in names.items():\n",
    "    print(key)\n",
    "    \n",
    "print(names.values())\n",
    "print(\"\\nvalues are:\\n\")\n",
    "for key,value in names.items():\n",
    "    print(value)\n"
   ]
  }
 ],
 "metadata": {
  "kernelspec": {
   "display_name": "Python 3",
   "language": "python",
   "name": "python3"
  },
  "language_info": {
   "codemirror_mode": {
    "name": "ipython",
    "version": 3
   },
   "file_extension": ".py",
   "mimetype": "text/x-python",
   "name": "python",
   "nbconvert_exporter": "python",
   "pygments_lexer": "ipython3",
   "version": "3.7.3"
  }
 },
 "nbformat": 4,
 "nbformat_minor": 2
}
